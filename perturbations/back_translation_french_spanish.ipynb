{
  "cells": [
    {
      "cell_type": "code",
      "execution_count": null,
      "metadata": {
        "id": "8y7dGN_Ld3Ko"
      },
      "outputs": [],
      "source": [
        " !pip install transformers[sentencepiece]"
      ]
    },
    {
      "cell_type": "code",
      "execution_count": 7,
      "metadata": {
        "id": "0-0IPgryeTn6"
      },
      "outputs": [],
      "source": [
        "import pandas as pd\n",
        "from google.colab import files\n",
        "from transformers import pipeline\n",
        "import io\n",
        "import csv\n",
        "\n",
        "\n",
        "test_df = pd.read_csv('testdataset.txt', sep='\\t', header=None, quoting=csv.QUOTE_NONE)\n",
        "test_df.columns = ['claim_labels', 'text_a', 'text_b', 'id', 'labels']\n",
        "test_df = test_df[['text_a', 'text_b', 'labels']]\n",
        "claim_sentences = test_df[\"text_b\"]"
      ]
    },
    {
      "cell_type": "markdown",
      "metadata": {
        "id": "xpWECHHcYlvx"
      },
      "source": [
        "## Back Translation (French)"
      ]
    },
    {
      "cell_type": "code",
      "execution_count": null,
      "metadata": {
        "colab": {
          "base_uri": "https://localhost:8080/",
          "height": 364
        },
        "id": "p9bj0Xo3fVtm",
        "outputId": "feba6945-01f8-490f-f53e-f7f2448aaaf9"
      },
      "outputs": [],
      "source": [
        "# add claims to list\n",
        "claims_list = []\n",
        "for i in claim_sentences:\n",
        "  claims_list.append(i)\n",
        "\n",
        "# translate claim sentences to french\n",
        "translator = pipeline(\"translation\", model=\"Helsinki-NLP/opus-mt-en-fr\")\n",
        "translatetofr = translator(claims_list)"
      ]
    },
    {
      "cell_type": "code",
      "execution_count": null,
      "metadata": {
        "id": "xRIqjvokTdBm"
      },
      "outputs": [],
      "source": [
        "# add translated sentences to list\n",
        "translated_sentences = []\n",
        "for x in range(len(translatetofr)):\n",
        "  pair = translatetofr[x]\n",
        "  value = pair['translation_text']\n",
        "  translated_sentences.append(value)"
      ]
    },
    {
      "cell_type": "code",
      "execution_count": null,
      "metadata": {
        "id": "wOqGDO8FXf_s"
      },
      "outputs": [],
      "source": [
        "# translate sentences back to english\n",
        "translator = pipeline(\"translation\", model=\"Helsinki-NLP/opus-mt-fr-en\")\n",
        "translatetoen = translator(claims_list)"
      ]
    },
    {
      "cell_type": "markdown",
      "metadata": {
        "id": "7vigaKRmYsyY"
      },
      "source": [
        "## Back Translation (Spanish)"
      ]
    },
    {
      "cell_type": "code",
      "execution_count": null,
      "metadata": {
        "id": "cjPet-JdY8Cb"
      },
      "outputs": [],
      "source": [
        "# add claims to list\n",
        "claims_list = []\n",
        "for i in claim_sentences:\n",
        "  claims_list.append(i)\n",
        "\n",
        "# translate claim sentences to spanish\n",
        "translator = pipeline(\"translation\", model=\"Helsinki-NLP/opus-mt-en-es\")\n",
        "translatetoes = translator(claims_list)"
      ]
    },
    {
      "cell_type": "code",
      "execution_count": null,
      "metadata": {
        "id": "WWgVUVaHY8Cc"
      },
      "outputs": [],
      "source": [
        "# add translated sentences to list\n",
        "translated_sentences = []\n",
        "for x in range(len(translatetoes)):\n",
        "  pair = translatetoes[x]\n",
        "  value = pair['translation_text']\n",
        "  translated_sentences.append(value)"
      ]
    },
    {
      "cell_type": "code",
      "execution_count": null,
      "metadata": {
        "id": "li40BrlyY8Cc"
      },
      "outputs": [],
      "source": [
        "# translate sentences back to english\n",
        "translator = pipeline(\"translation\", model=\"Helsinki-NLP/opus-mt-es-en\")\n",
        "translatetoes = translator(claims_list)"
      ]
    }
  ],
  "metadata": {
    "colab": {
      "collapsed_sections": [
        "xpWECHHcYlvx"
      ],
      "provenance": []
    },
    "kernelspec": {
      "display_name": "Python 3",
      "name": "python3"
    },
    "language_info": {
      "name": "python"
    }
  },
  "nbformat": 4,
  "nbformat_minor": 0
}
