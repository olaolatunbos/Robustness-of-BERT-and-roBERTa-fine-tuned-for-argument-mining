{
 "cells": [
  {
   "cell_type": "code",
   "execution_count": 6,
   "id": "275e3c84",
   "metadata": {
    "collapsed": true
   },
   "outputs": [
    {
     "name": "stdout",
     "output_type": "stream",
     "text": [
      "Collecting en-core-web-sm==3.1.0\n",
      "  Using cached https://github.com/explosion/spacy-models/releases/download/en_core_web_sm-3.1.0/en_core_web_sm-3.1.0-py3-none-any.whl (13.6 MB)\n",
      "Requirement already satisfied: spacy<3.2.0,>=3.1.0 in ./opt/miniconda3/lib/python3.9/site-packages (from en-core-web-sm==3.1.0) (3.1.4)\n",
      "Requirement already satisfied: spacy-legacy<3.1.0,>=3.0.8 in ./opt/miniconda3/lib/python3.9/site-packages (from spacy<3.2.0,>=3.1.0->en-core-web-sm==3.1.0) (3.0.10)\n",
      "Requirement already satisfied: pathy>=0.3.5 in ./opt/miniconda3/lib/python3.9/site-packages (from spacy<3.2.0,>=3.1.0->en-core-web-sm==3.1.0) (0.6.2)\n",
      "Requirement already satisfied: catalogue<2.1.0,>=2.0.6 in ./opt/miniconda3/lib/python3.9/site-packages (from spacy<3.2.0,>=3.1.0->en-core-web-sm==3.1.0) (2.0.8)\n",
      "Requirement already satisfied: pydantic!=1.8,!=1.8.1,<1.9.0,>=1.7.4 in ./opt/miniconda3/lib/python3.9/site-packages (from spacy<3.2.0,>=3.1.0->en-core-web-sm==3.1.0) (1.8.2)\n",
      "Requirement already satisfied: cymem<2.1.0,>=2.0.2 in ./opt/miniconda3/lib/python3.9/site-packages (from spacy<3.2.0,>=3.1.0->en-core-web-sm==3.1.0) (2.0.7)\n",
      "Requirement already satisfied: blis<0.8.0,>=0.4.0 in ./opt/miniconda3/lib/python3.9/site-packages (from spacy<3.2.0,>=3.1.0->en-core-web-sm==3.1.0) (0.7.9)\n",
      "Requirement already satisfied: packaging>=20.0 in ./opt/miniconda3/lib/python3.9/site-packages (from spacy<3.2.0,>=3.1.0->en-core-web-sm==3.1.0) (21.3)\n",
      "Requirement already satisfied: wasabi<1.1.0,>=0.8.1 in ./opt/miniconda3/lib/python3.9/site-packages (from spacy<3.2.0,>=3.1.0->en-core-web-sm==3.1.0) (0.10.1)\n",
      "Requirement already satisfied: jinja2 in ./opt/miniconda3/lib/python3.9/site-packages (from spacy<3.2.0,>=3.1.0->en-core-web-sm==3.1.0) (3.1.2)\n",
      "Requirement already satisfied: srsly<3.0.0,>=2.4.1 in ./opt/miniconda3/lib/python3.9/site-packages (from spacy<3.2.0,>=3.1.0->en-core-web-sm==3.1.0) (2.4.5)\n",
      "Requirement already satisfied: setuptools in ./opt/miniconda3/lib/python3.9/site-packages (from spacy<3.2.0,>=3.1.0->en-core-web-sm==3.1.0) (61.2.0)\n",
      "Requirement already satisfied: murmurhash<1.1.0,>=0.28.0 in ./opt/miniconda3/lib/python3.9/site-packages (from spacy<3.2.0,>=3.1.0->en-core-web-sm==3.1.0) (1.0.9)\n",
      "Requirement already satisfied: numpy>=1.15.0 in ./opt/miniconda3/lib/python3.9/site-packages (from spacy<3.2.0,>=3.1.0->en-core-web-sm==3.1.0) (1.23.1)\n",
      "Requirement already satisfied: requests<3.0.0,>=2.13.0 in ./opt/miniconda3/lib/python3.9/site-packages (from spacy<3.2.0,>=3.1.0->en-core-web-sm==3.1.0) (2.27.1)\n",
      "Requirement already satisfied: thinc<8.1.0,>=8.0.12 in ./opt/miniconda3/lib/python3.9/site-packages (from spacy<3.2.0,>=3.1.0->en-core-web-sm==3.1.0) (8.0.17)\n",
      "Requirement already satisfied: preshed<3.1.0,>=3.0.2 in ./opt/miniconda3/lib/python3.9/site-packages (from spacy<3.2.0,>=3.1.0->en-core-web-sm==3.1.0) (3.0.8)\n",
      "Requirement already satisfied: typer<0.5.0,>=0.3.0 in ./opt/miniconda3/lib/python3.9/site-packages (from spacy<3.2.0,>=3.1.0->en-core-web-sm==3.1.0) (0.4.2)\n",
      "Requirement already satisfied: tqdm<5.0.0,>=4.38.0 in ./opt/miniconda3/lib/python3.9/site-packages (from spacy<3.2.0,>=3.1.0->en-core-web-sm==3.1.0) (4.63.0)\n",
      "Requirement already satisfied: pyparsing!=3.0.5,>=2.0.2 in ./opt/miniconda3/lib/python3.9/site-packages (from packaging>=20.0->spacy<3.2.0,>=3.1.0->en-core-web-sm==3.1.0) (3.0.9)\n",
      "Requirement already satisfied: smart-open<6.0.0,>=5.2.1 in ./opt/miniconda3/lib/python3.9/site-packages (from pathy>=0.3.5->spacy<3.2.0,>=3.1.0->en-core-web-sm==3.1.0) (5.2.1)\n",
      "Requirement already satisfied: typing-extensions>=3.7.4.3 in ./opt/miniconda3/lib/python3.9/site-packages (from pydantic!=1.8,!=1.8.1,<1.9.0,>=1.7.4->spacy<3.2.0,>=3.1.0->en-core-web-sm==3.1.0) (4.4.0)\n",
      "Requirement already satisfied: certifi>=2017.4.17 in ./opt/miniconda3/lib/python3.9/site-packages (from requests<3.0.0,>=2.13.0->spacy<3.2.0,>=3.1.0->en-core-web-sm==3.1.0) (2021.10.8)\n",
      "Requirement already satisfied: charset-normalizer~=2.0.0 in ./opt/miniconda3/lib/python3.9/site-packages (from requests<3.0.0,>=2.13.0->spacy<3.2.0,>=3.1.0->en-core-web-sm==3.1.0) (2.0.4)\n",
      "Requirement already satisfied: idna<4,>=2.5 in ./opt/miniconda3/lib/python3.9/site-packages (from requests<3.0.0,>=2.13.0->spacy<3.2.0,>=3.1.0->en-core-web-sm==3.1.0) (3.3)\n",
      "Requirement already satisfied: urllib3<1.27,>=1.21.1 in ./opt/miniconda3/lib/python3.9/site-packages (from requests<3.0.0,>=2.13.0->spacy<3.2.0,>=3.1.0->en-core-web-sm==3.1.0) (1.26.13)\n",
      "Requirement already satisfied: click<9.0.0,>=7.1.1 in ./opt/miniconda3/lib/python3.9/site-packages (from typer<0.5.0,>=0.3.0->spacy<3.2.0,>=3.1.0->en-core-web-sm==3.1.0) (8.1.3)\n",
      "Requirement already satisfied: MarkupSafe>=2.0 in ./opt/miniconda3/lib/python3.9/site-packages (from jinja2->spacy<3.2.0,>=3.1.0->en-core-web-sm==3.1.0) (2.1.1)\n",
      "\u001b[38;5;2m✔ Download and installation successful\u001b[0m\n",
      "You can now load the package via spacy.load('en_core_web_sm')\n"
     ]
    }
   ],
   "source": [
    "%load_ext autoreload\n",
    "%autoreload 2\n",
    "\n",
    "import checklist\n",
    "import spacy\n",
    "import itertools\n",
    "import csv\n",
    "import pandas as pd\n",
    "import io\n",
    "import checklist.editor\n",
    "import checklist.text_generation\n",
    "from checklist.expect import Expect\n",
    "import numpy as np\n",
    "import spacy\n",
    "from checklist.perturb import Perturb\n",
    "from spacy.cli import download\n",
    "download(\"en_core_web_sm\")\n",
    "import numpy as np\n",
    "import re\n"
   ]
  },
  {
   "cell_type": "code",
   "execution_count": 10,
   "id": "df3ff403",
   "metadata": {},
   "outputs": [
    {
     "name": "stdout",
     "output_type": "stream",
     "text": [
      "7065\n"
     ]
    }
   ],
   "source": [
    "# read test data\n",
    "df = pd.read_csv('testdataset.txt', sep='\\t', header=None)\n",
    "df.columns = ['labels', 'text_a', 'text_b', 'id', 'stance_labels']\n",
    "topic_sentences = df['text_a'].tolist()\n",
    "claim_sentences = df['text_b'].tolist()\n",
    "stances = df['stance_labels'].tolist()"
   ]
  },
  {
   "cell_type": "code",
   "execution_count": 13,
   "id": "470388a3",
   "metadata": {},
   "outputs": [],
   "source": [
    "# checklist function to replace pairs of words\n",
    "def replace_pairs(pairs):\n",
    "    def replace_z(text):\n",
    "        ret = []\n",
    "        for x, y in pairs:\n",
    "            t = re.sub(r'\\b%s\\b' % x, y, text )\n",
    "            if t != text:\n",
    "                ret.append(t)\n",
    "            if y == 'smart':\n",
    "                continue\n",
    "            t = re.sub(r'\\b%s\\b' % y, x, text )\n",
    "            if t != text:\n",
    "                ret.append(t)\n",
    "        return list(set(ret))\n",
    "    return replace_z\n",
    "def apply_and_pair(fn):\n",
    "    def ret_fn(text):\n",
    "        ret = fn(text)\n",
    "        return [(r) for r in ret]\n",
    "    return ret_fn"
   ]
  },
  {
   "cell_type": "code",
   "execution_count": 15,
   "id": "eeaff20a",
   "metadata": {},
   "outputs": [],
   "source": [
    "# list of words and their synonyms\n",
    "synonyms = [('restrict', 'limit'),('support', 'back'), ('prohibited', 'banned'), ('prohibit', 'ban'), ('promote', 'encourage'), ('mandatory', 'compulsory'), ('legalize', 'authorize'), ('embrace', 'accept'), ('subsidize', 'fund'), ('cancel', 'abolish'), ('replace', 'substitute'), ('curb', 'constrain'), ('Negative', 'adverse'), ('eliminate', 'discard'), ('stop', 'cease'), ('provide', 'give'), ('abolished', 'eradicated'), ('reflect', 'display'), ('children', 'kids'), ('abandon', 'discard'), ('protect', 'safeguard'), ('free', 'nothing'), ('allowed', 'welcomed'), ('advocate', 'endorse'), ('block', 'obstruct'), ('sympathize with', 'appreciate'), ('harmful', 'damaging'), ('remain', 'stay'), ('bring', 'create'), ('fight for', 'defend'), ('implement', 'execute'), ('return', 'change'), ('forced', 'required')]\n",
    "antonyms = [('restrict', 'allow'), ('limit', 'encourage'), ('support', 'oppose'), ('prohibited', 'permitted'), ('prohibit', 'permit'), ('promote', 'impede'), ('compulsory', 'optional'), ('mandatory', 'discretional'), ('legalize', 'forbid'), ('accept', 'refuse'), ('embrace', 'reject'), ('subsidize', 'reject'), ('cancel', 'keep'), ('banned', 'legitimate'), ('replace', 'not replace'), ('curb', 'encourage'), ('Negative', 'positive'), ('eliminate', 'preserve'), ('stop', 'continue'), ('provide', 'not provide'), ('abolished', 'kept'), ('ban', 'legitimatize'),('reflect', 'not reflect'), ('children', 'adults'), ('abandon', 'retain'), ('protect', 'neglect'), ('free', 'a cost'), ('allowed', 'not allowed'), ('advocate', 'deny'), ('block', 'help'), ('sympathize with', 'not sympathize with'), ('harmful', 'beneficial'), ('remain', 'not remain'), ('bring', 'stop'), ('fight for', 'not fight for'), ('implement', 'not implement'), ('fund', 'not fund'),('return', 'not return'), ('forced', 'unforced'), ('stay away from', 'engage with')]"
   ]
  },
  {
   "cell_type": "code",
   "execution_count": 16,
   "id": "e41d5fb1",
   "metadata": {},
   "outputs": [],
   "source": [
    "nlp = spacy.load('en_core_web_sm')\n",
    "pdata = list(nlp.pipe(topic_sentences))"
   ]
  },
  {
   "cell_type": "code",
   "execution_count": 17,
   "id": "d9cecdfe",
   "metadata": {},
   "outputs": [],
   "source": [
    "# replace verbs in topic sentence with synonyms\n",
    "ret = Perturb.perturb(topic_sentences, replace_pairs(synonyms), keep_original=True)\n",
    "synonym_list = ret.data"
   ]
  },
  {
   "cell_type": "code",
   "execution_count": 18,
   "id": "7a22f79d",
   "metadata": {},
   "outputs": [],
   "source": [
    "# replace verbs in topic sentence with antonyms\n",
    "ret2 = Perturb.perturb(topic_sentences, replace_pairs(antonyms), keep_original=True)\n",
    "antonym_list = ret2.data"
   ]
  },
  {
   "cell_type": "code",
   "execution_count": 19,
   "id": "c460d6f5",
   "metadata": {},
   "outputs": [],
   "source": [
    "# replace contractions with expansion and contractable words with contractions\n",
    "ret3 = Perturb.perturb(claim_sentences, Perturb.contractions, keep_original=True)\n",
    "contraction_list = ret3.data"
   ]
  },
  {
   "cell_type": "code",
   "execution_count": 20,
   "id": "6da712c5",
   "metadata": {
    "collapsed": true
   },
   "outputs": [
    {
     "name": "stdout",
     "output_type": "stream",
     "text": [
      "[['The Seattle-based Great Ape Project (GAP), founded by Peter Singer, is campaigning for the United Nations to adopt its Declaration on Great Apes, which would see chimpanzees, bonobos, gorillas and orang-utans included in a community of equals with human beings.', 'The Wichita-based Great Ape Project (GAP), founded by Peter Singer, is campaigning for the United Nations to adopt its Declaration on Great Apes, which would see chimpanzees, bonobos, gorillas and orang-utans included in a community of equals with human beings.'], ['In 1992, Switzerland amended its constitution to recognize animals as beings and not things [ref].', 'In 1992, Thailand amended its constitution to recognize animals as beings and not things [ref].'], ['A decade later, Germany guaranteed rights to animals in a 2002 amendment to its constitution, becoming the first European Union member to do so [ref].', 'A decade later, Russian Federation guaranteed rights to animals in a 2002 amendment to its constitution, becoming the first European Union member to do so [ref].'], ['Perhaps the greatest success of the animal liberation movement has been the granting of basic rights to five great ape species in New Zealand in 1999.', 'Perhaps the greatest success of the animal liberation movement has been the granting of basic rights to five great ape species in India in 1999.'], ['Also, on May 17, 2013, India declared that all cetaceans have the status of nonhuman persons [ref].', 'Also, on May 17, 2013, Spain declared that all cetaceans have the status of nonhuman persons [ref].'], ['While there is only one act covering the entire United States, there are more current laws surrounding animal rights, which vary by state.', 'While there is only one act covering the entire Egypt, there are more current laws surrounding animal rights, which vary by state.'], [\"A November 13, 2003 edition of CBS News' 60 Minutes charged that eco-terrorists, a term used by the United States government to refer to the Animal Liberation Front and Earth Liberation Front, are considered by the FBI to be the country’s biggest domestic terrorist threat [ref].\", \"A November 13, 2003 edition of CBS News' 60 Minutes charged that eco-terrorists, a term used by the Pakistan government to refer to the Animal Liberation Front and Earth Liberation Front, are considered by the FBI to be the country’s biggest domestic terrorist threat [ref].\"], ['In Turkey, animal rights groups commonly join other social movements by aligning with online and offline campaigns.', 'In Algeria, animal rights groups commonly join other social movements by aligning with online and offline campaigns.'], ['This allowed for increased legitimacy and network expansion; the animal rights movement in Istanbul is composed of multi-movement actors from the feminist movement, LGBT+ movement, and antimilitarist movement, and such inter-movement interaction has led to increased coverage of veganism and animal rights by leftist news sites in Turkey [ref].', 'This allowed for increased legitimacy and network expansion; the animal rights movement in Istanbul is composed of multi-movement actors from the feminist movement, LGBT+ movement, and antimilitarist movement, and such inter-movement interaction has led to increased coverage of veganism and animal rights by leftist news sites in Mozambique [ref].'], [\"Another example of counterframing from opposition movement actors is found in Switzerland's 1998 referendum cycle, in which antivivisectionists' claims that animal research should be abolished were contested with claims that mobilized the public more.\", \"Another example of counterframing from opposition movement actors is found in Angola's 1998 referendum cycle, in which antivivisectionists' claims that animal research should be abolished were contested with claims that mobilized the public more.\"]]\n"
     ]
    }
   ],
   "source": [
    "# change location names in sentences to random locations\n",
    "nlp = spacy.load('en_core_web_sm')\n",
    "pdata = list(nlp.pipe(claim_sentences))\n",
    "ret4 = Perturb.perturb(pdata, Perturb.change_location, n=1, keep_original=True)\n",
    "location_list = ret4.data\n",
    "print(location_list[:10])"
   ]
  },
  {
   "cell_type": "code",
   "execution_count": 21,
   "id": "3d475e1f",
   "metadata": {
    "collapsed": true
   },
   "outputs": [
    {
     "name": "stdout",
     "output_type": "stream",
     "text": [
      "[[\"Other early influences include: Upton Sinclair's 1906 novel The Jungle, which drew attention to obscured slaughterhouse operations; Henry Salt's treatises on nonhuman animal rights; which drew from human abolitionist arguments for recognizing personhood of people considered to be property; and the Alcott House of New England, a community serving as a stop on the Underground Railroad and requiring its residents to eat a vegan diet [ref].\", \"Other early influences include: Upton Sinclair's 2017 novel The Jungle, which drew attention to obscured slaughterhouse operations; Henry Salt's treatises on nonhuman animal rights; which drew from human abolitionist arguments for recognizing personhood of people considered to be property; and the Alcott House of New England, a community serving as a stop on the Underground Railroad and requiring its residents to eat a vegan diet [ref].\"], ['It was a 1965 article by novelist Brigid Brophy in The Sunday Times which was pivotal in helping to spark the movement.', 'It was a 1980 article by novelist Brigid Brophy in The Sunday Times which was pivotal in helping to spark the movement.'], ['In 1970, Ryder coined the phrase speciesism, first using it in a privately printed pamphlet to describe the assignment of value to the interests of beings on the basis of their membership of a particular species [ref].', 'In 2157, Ryder coined the phrase speciesism, first using it in a privately printed pamphlet to describe the assignment of value to the interests of beings on the basis of their membership of a particular species [ref].'], [\"Ryder subsequently became a contributor to Animals, Men and Morals: An Inquiry into the Maltreatment of Non-humans (1972), edited by John Harris and the Godlovitches, a work that became highly influential [ref], as did Rosalind Godlovitch's essay Animal and Morals, published the same year.\", \"Ryder subsequently became a contributor to Animals, Men and Morals: An Inquiry into the Maltreatment of Non-humans (2316), edited by John Harris and the Godlovitches, a work that became highly influential [ref], as did Rosalind Godlovitch's essay Animal and Morals, published the same year.\"], [\"Out of the review came Singer's Animal Liberation, published in 1975, now regarded by many as the bible of the movement.\", \"Out of the review came Singer's Animal Liberation, published in 2073, now regarded by many as the bible of the movement.\"], [\"Other books regarded as important include philosopher Tom Regan's The Case for Animal Rights (1983); Created from Animals: The Moral Implications of Darwinism by James Rachels (1990); Animals, Property, and the Law (1995) by legal scholar Gary Francione, Rattling the Cage: Toward Legal Rights for Animals by another legal scholar Steven M. Wise (2000); and Animal Rights and Moral Philosophy by Julian H. Franklin (2005) [ref].\", \"Other books regarded as important include philosopher Tom Regan's The Case for Animal Rights (1983); Created from Animals: The Moral Implications of Darwinism by James Rachels (1592); Animals, Property, and the Law (1995) by legal scholar Gary Francione, Rattling the Cage: Toward Legal Rights for Animals by another legal scholar Steven M. Wise (2000); and Animal Rights and Moral Philosophy by Julian H. Franklin (2005) [ref].\"], ['Animal law courses are taught in 92 out of 180 law schools in the U.S [ref]., and the movement has gained the support of senior legal scholars, including Alan Dershowitz[22] and Laurence Tribe of Harvard Law School [ref].', 'Animal law courses are taught in 92 out of 186 law schools in the U.S [ref]., and the movement has gained the support of senior legal scholars, including Alan Dershowitz[22] and Laurence Tribe of Harvard Law School [ref].'], ['In 1992, Switzerland amended its constitution to recognize animals as beings and not things [ref].', 'In 1889, Switzerland amended its constitution to recognize animals as beings and not things [ref].'], ['However, in 1999 the Swiss constitution was completely rewritten.', 'However, in 2399 the Swiss constitution was completely rewritten.'], ['A decade later, Germany guaranteed rights to animals in a 2002 amendment to its constitution, becoming the first European Union member to do so [ref].', 'A decade later, Germany guaranteed rights to animals in a 2361 amendment to its constitution, becoming the first European Union member to do so [ref].']]\n"
     ]
    }
   ],
   "source": [
    "# change numbers in sentences to random numbers\n",
    "pdata2 = list(nlp.pipe(claim_sentences))\n",
    "ret5 = Perturb.perturb(pdata2, Perturb.change_number, n=1, keep_original=True)\n",
    "number_list = ret5.data"
   ]
  }
 ],
 "metadata": {
  "kernelspec": {
   "display_name": "Python 3 (ipykernel)",
   "language": "python",
   "name": "python3"
  },
  "language_info": {
   "codemirror_mode": {
    "name": "ipython",
    "version": 3
   },
   "file_extension": ".py",
   "mimetype": "text/x-python",
   "name": "python",
   "nbconvert_exporter": "python",
   "pygments_lexer": "ipython3",
   "version": "3.9.12"
  }
 },
 "nbformat": 4,
 "nbformat_minor": 5
}
